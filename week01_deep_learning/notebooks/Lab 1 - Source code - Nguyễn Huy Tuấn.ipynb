{
  "cells": [
    {
      "cell_type": "markdown",
      "metadata": {
        "id": "TL5y5fY9Jy_x"
      },
      "source": [
        "# Lab: Neural networks\n",
        "\n",
        "In this lab we will build dense neural networks on the MNIST dataset.\n",
        "\n",
        "Make sure you read the tutorial for this lab first."
      ]
    },
    {
      "cell_type": "markdown",
      "metadata": {
        "id": "CGHz7c8_aI_6"
      },
      "source": [
        "## Load the data and create train-test splits"
      ]
    },
    {
      "cell_type": "code",
      "execution_count": 1,
      "metadata": {
        "id": "y43GX0ulaI_7",
        "colab": {
          "base_uri": "https://localhost:8080/"
        },
        "outputId": "bcb9fb4e-b888-4da8-c42c-002164a85b55"
      },
      "outputs": [
        {
          "output_type": "stream",
          "name": "stdout",
          "text": [
            "Collecting openml\n",
            "  Downloading openml-0.15.1-py3-none-any.whl.metadata (10 kB)\n",
            "Collecting liac-arff>=2.4.0 (from openml)\n",
            "  Downloading liac-arff-2.5.0.tar.gz (13 kB)\n",
            "  Preparing metadata (setup.py) ... \u001b[?25l\u001b[?25hdone\n",
            "Collecting xmltodict (from openml)\n",
            "  Downloading xmltodict-0.14.2-py2.py3-none-any.whl.metadata (8.0 kB)\n",
            "Requirement already satisfied: requests in /usr/local/lib/python3.11/dist-packages (from openml) (2.32.3)\n",
            "Requirement already satisfied: scikit-learn>=0.18 in /usr/local/lib/python3.11/dist-packages (from openml) (1.6.1)\n",
            "Requirement already satisfied: python-dateutil in /usr/local/lib/python3.11/dist-packages (from openml) (2.8.2)\n",
            "Requirement already satisfied: pandas>=1.0.0 in /usr/local/lib/python3.11/dist-packages (from openml) (2.2.2)\n",
            "Requirement already satisfied: scipy>=0.13.3 in /usr/local/lib/python3.11/dist-packages (from openml) (1.14.1)\n",
            "Requirement already satisfied: numpy>=1.6.2 in /usr/local/lib/python3.11/dist-packages (from openml) (2.0.2)\n",
            "Collecting minio (from openml)\n",
            "  Downloading minio-7.2.15-py3-none-any.whl.metadata (6.7 kB)\n",
            "Requirement already satisfied: pyarrow in /usr/local/lib/python3.11/dist-packages (from openml) (18.1.0)\n",
            "Requirement already satisfied: tqdm in /usr/local/lib/python3.11/dist-packages (from openml) (4.67.1)\n",
            "Requirement already satisfied: packaging in /usr/local/lib/python3.11/dist-packages (from openml) (24.2)\n",
            "Requirement already satisfied: pytz>=2020.1 in /usr/local/lib/python3.11/dist-packages (from pandas>=1.0.0->openml) (2025.2)\n",
            "Requirement already satisfied: tzdata>=2022.7 in /usr/local/lib/python3.11/dist-packages (from pandas>=1.0.0->openml) (2025.2)\n",
            "Requirement already satisfied: six>=1.5 in /usr/local/lib/python3.11/dist-packages (from python-dateutil->openml) (1.17.0)\n",
            "Requirement already satisfied: joblib>=1.2.0 in /usr/local/lib/python3.11/dist-packages (from scikit-learn>=0.18->openml) (1.4.2)\n",
            "Requirement already satisfied: threadpoolctl>=3.1.0 in /usr/local/lib/python3.11/dist-packages (from scikit-learn>=0.18->openml) (3.6.0)\n",
            "Requirement already satisfied: certifi in /usr/local/lib/python3.11/dist-packages (from minio->openml) (2025.1.31)\n",
            "Requirement already satisfied: urllib3 in /usr/local/lib/python3.11/dist-packages (from minio->openml) (2.3.0)\n",
            "Requirement already satisfied: argon2-cffi in /usr/local/lib/python3.11/dist-packages (from minio->openml) (23.1.0)\n",
            "Collecting pycryptodome (from minio->openml)\n",
            "  Downloading pycryptodome-3.22.0-cp37-abi3-manylinux_2_17_x86_64.manylinux2014_x86_64.whl.metadata (3.4 kB)\n",
            "Requirement already satisfied: typing-extensions in /usr/local/lib/python3.11/dist-packages (from minio->openml) (4.13.2)\n",
            "Requirement already satisfied: charset-normalizer<4,>=2 in /usr/local/lib/python3.11/dist-packages (from requests->openml) (3.4.1)\n",
            "Requirement already satisfied: idna<4,>=2.5 in /usr/local/lib/python3.11/dist-packages (from requests->openml) (3.10)\n",
            "Requirement already satisfied: argon2-cffi-bindings in /usr/local/lib/python3.11/dist-packages (from argon2-cffi->minio->openml) (21.2.0)\n",
            "Requirement already satisfied: cffi>=1.0.1 in /usr/local/lib/python3.11/dist-packages (from argon2-cffi-bindings->argon2-cffi->minio->openml) (1.17.1)\n",
            "Requirement already satisfied: pycparser in /usr/local/lib/python3.11/dist-packages (from cffi>=1.0.1->argon2-cffi-bindings->argon2-cffi->minio->openml) (2.22)\n",
            "Downloading openml-0.15.1-py3-none-any.whl (160 kB)\n",
            "\u001b[2K   \u001b[90m━━━━━━━━━━━━━━━━━━━━━━━━━━━━━━━━━━━━━━━━\u001b[0m \u001b[32m160.4/160.4 kB\u001b[0m \u001b[31m14.4 MB/s\u001b[0m eta \u001b[36m0:00:00\u001b[0m\n",
            "\u001b[?25hDownloading minio-7.2.15-py3-none-any.whl (95 kB)\n",
            "\u001b[2K   \u001b[90m━━━━━━━━━━━━━━━━━━━━━━━━━━━━━━━━━━━━━━━━\u001b[0m \u001b[32m95.1/95.1 kB\u001b[0m \u001b[31m8.3 MB/s\u001b[0m eta \u001b[36m0:00:00\u001b[0m\n",
            "\u001b[?25hDownloading xmltodict-0.14.2-py2.py3-none-any.whl (10.0 kB)\n",
            "Downloading pycryptodome-3.22.0-cp37-abi3-manylinux_2_17_x86_64.manylinux2014_x86_64.whl (2.3 MB)\n",
            "\u001b[2K   \u001b[90m━━━━━━━━━━━━━━━━━━━━━━━━━━━━━━━━━━━━━━━━\u001b[0m \u001b[32m2.3/2.3 MB\u001b[0m \u001b[31m68.5 MB/s\u001b[0m eta \u001b[36m0:00:00\u001b[0m\n",
            "\u001b[?25hBuilding wheels for collected packages: liac-arff\n",
            "  Building wheel for liac-arff (setup.py) ... \u001b[?25l\u001b[?25hdone\n",
            "  Created wheel for liac-arff: filename=liac_arff-2.5.0-py3-none-any.whl size=11717 sha256=805259b35fbc24ed63c92a65991cb0756de906f927c1510b1a6100dadb85d01d\n",
            "  Stored in directory: /root/.cache/pip/wheels/00/23/31/5e562fce1f95aabe57f2a7320d07433ba1cd152bcde2f6a002\n",
            "Successfully built liac-arff\n",
            "Installing collected packages: xmltodict, pycryptodome, liac-arff, minio, openml\n",
            "Successfully installed liac-arff-2.5.0 minio-7.2.15 openml-0.15.1 pycryptodome-3.22.0 xmltodict-0.14.2\n",
            "Collecting pytorch_lightning\n",
            "  Downloading pytorch_lightning-2.5.1.post0-py3-none-any.whl.metadata (20 kB)\n",
            "Requirement already satisfied: torch>=2.1.0 in /usr/local/lib/python3.11/dist-packages (from pytorch_lightning) (2.6.0+cu124)\n",
            "Requirement already satisfied: tqdm>=4.57.0 in /usr/local/lib/python3.11/dist-packages (from pytorch_lightning) (4.67.1)\n",
            "Requirement already satisfied: PyYAML>=5.4 in /usr/local/lib/python3.11/dist-packages (from pytorch_lightning) (6.0.2)\n",
            "Requirement already satisfied: fsspec>=2022.5.0 in /usr/local/lib/python3.11/dist-packages (from fsspec[http]>=2022.5.0->pytorch_lightning) (2025.3.2)\n",
            "Collecting torchmetrics>=0.7.0 (from pytorch_lightning)\n",
            "  Downloading torchmetrics-1.7.1-py3-none-any.whl.metadata (21 kB)\n",
            "Requirement already satisfied: packaging>=20.0 in /usr/local/lib/python3.11/dist-packages (from pytorch_lightning) (24.2)\n",
            "Requirement already satisfied: typing-extensions>=4.4.0 in /usr/local/lib/python3.11/dist-packages (from pytorch_lightning) (4.13.2)\n",
            "Collecting lightning-utilities>=0.10.0 (from pytorch_lightning)\n",
            "  Downloading lightning_utilities-0.14.3-py3-none-any.whl.metadata (5.6 kB)\n",
            "Requirement already satisfied: aiohttp!=4.0.0a0,!=4.0.0a1 in /usr/local/lib/python3.11/dist-packages (from fsspec[http]>=2022.5.0->pytorch_lightning) (3.11.15)\n",
            "Requirement already satisfied: setuptools in /usr/local/lib/python3.11/dist-packages (from lightning-utilities>=0.10.0->pytorch_lightning) (75.2.0)\n",
            "Requirement already satisfied: filelock in /usr/local/lib/python3.11/dist-packages (from torch>=2.1.0->pytorch_lightning) (3.18.0)\n",
            "Requirement already satisfied: networkx in /usr/local/lib/python3.11/dist-packages (from torch>=2.1.0->pytorch_lightning) (3.4.2)\n",
            "Requirement already satisfied: jinja2 in /usr/local/lib/python3.11/dist-packages (from torch>=2.1.0->pytorch_lightning) (3.1.6)\n",
            "Collecting nvidia-cuda-nvrtc-cu12==12.4.127 (from torch>=2.1.0->pytorch_lightning)\n",
            "  Downloading nvidia_cuda_nvrtc_cu12-12.4.127-py3-none-manylinux2014_x86_64.whl.metadata (1.5 kB)\n",
            "Collecting nvidia-cuda-runtime-cu12==12.4.127 (from torch>=2.1.0->pytorch_lightning)\n",
            "  Downloading nvidia_cuda_runtime_cu12-12.4.127-py3-none-manylinux2014_x86_64.whl.metadata (1.5 kB)\n",
            "Collecting nvidia-cuda-cupti-cu12==12.4.127 (from torch>=2.1.0->pytorch_lightning)\n",
            "  Downloading nvidia_cuda_cupti_cu12-12.4.127-py3-none-manylinux2014_x86_64.whl.metadata (1.6 kB)\n",
            "Collecting nvidia-cudnn-cu12==9.1.0.70 (from torch>=2.1.0->pytorch_lightning)\n",
            "  Downloading nvidia_cudnn_cu12-9.1.0.70-py3-none-manylinux2014_x86_64.whl.metadata (1.6 kB)\n",
            "Collecting nvidia-cublas-cu12==12.4.5.8 (from torch>=2.1.0->pytorch_lightning)\n",
            "  Downloading nvidia_cublas_cu12-12.4.5.8-py3-none-manylinux2014_x86_64.whl.metadata (1.5 kB)\n",
            "Collecting nvidia-cufft-cu12==11.2.1.3 (from torch>=2.1.0->pytorch_lightning)\n",
            "  Downloading nvidia_cufft_cu12-11.2.1.3-py3-none-manylinux2014_x86_64.whl.metadata (1.5 kB)\n",
            "Collecting nvidia-curand-cu12==10.3.5.147 (from torch>=2.1.0->pytorch_lightning)\n",
            "  Downloading nvidia_curand_cu12-10.3.5.147-py3-none-manylinux2014_x86_64.whl.metadata (1.5 kB)\n",
            "Collecting nvidia-cusolver-cu12==11.6.1.9 (from torch>=2.1.0->pytorch_lightning)\n",
            "  Downloading nvidia_cusolver_cu12-11.6.1.9-py3-none-manylinux2014_x86_64.whl.metadata (1.6 kB)\n",
            "Collecting nvidia-cusparse-cu12==12.3.1.170 (from torch>=2.1.0->pytorch_lightning)\n",
            "  Downloading nvidia_cusparse_cu12-12.3.1.170-py3-none-manylinux2014_x86_64.whl.metadata (1.6 kB)\n",
            "Requirement already satisfied: nvidia-cusparselt-cu12==0.6.2 in /usr/local/lib/python3.11/dist-packages (from torch>=2.1.0->pytorch_lightning) (0.6.2)\n",
            "Requirement already satisfied: nvidia-nccl-cu12==2.21.5 in /usr/local/lib/python3.11/dist-packages (from torch>=2.1.0->pytorch_lightning) (2.21.5)\n",
            "Requirement already satisfied: nvidia-nvtx-cu12==12.4.127 in /usr/local/lib/python3.11/dist-packages (from torch>=2.1.0->pytorch_lightning) (12.4.127)\n",
            "Collecting nvidia-nvjitlink-cu12==12.4.127 (from torch>=2.1.0->pytorch_lightning)\n",
            "  Downloading nvidia_nvjitlink_cu12-12.4.127-py3-none-manylinux2014_x86_64.whl.metadata (1.5 kB)\n",
            "Requirement already satisfied: triton==3.2.0 in /usr/local/lib/python3.11/dist-packages (from torch>=2.1.0->pytorch_lightning) (3.2.0)\n",
            "Requirement already satisfied: sympy==1.13.1 in /usr/local/lib/python3.11/dist-packages (from torch>=2.1.0->pytorch_lightning) (1.13.1)\n",
            "Requirement already satisfied: mpmath<1.4,>=1.1.0 in /usr/local/lib/python3.11/dist-packages (from sympy==1.13.1->torch>=2.1.0->pytorch_lightning) (1.3.0)\n",
            "Requirement already satisfied: numpy>1.20.0 in /usr/local/lib/python3.11/dist-packages (from torchmetrics>=0.7.0->pytorch_lightning) (2.0.2)\n",
            "Requirement already satisfied: aiohappyeyeballs>=2.3.0 in /usr/local/lib/python3.11/dist-packages (from aiohttp!=4.0.0a0,!=4.0.0a1->fsspec[http]>=2022.5.0->pytorch_lightning) (2.6.1)\n",
            "Requirement already satisfied: aiosignal>=1.1.2 in /usr/local/lib/python3.11/dist-packages (from aiohttp!=4.0.0a0,!=4.0.0a1->fsspec[http]>=2022.5.0->pytorch_lightning) (1.3.2)\n",
            "Requirement already satisfied: attrs>=17.3.0 in /usr/local/lib/python3.11/dist-packages (from aiohttp!=4.0.0a0,!=4.0.0a1->fsspec[http]>=2022.5.0->pytorch_lightning) (25.3.0)\n",
            "Requirement already satisfied: frozenlist>=1.1.1 in /usr/local/lib/python3.11/dist-packages (from aiohttp!=4.0.0a0,!=4.0.0a1->fsspec[http]>=2022.5.0->pytorch_lightning) (1.6.0)\n",
            "Requirement already satisfied: multidict<7.0,>=4.5 in /usr/local/lib/python3.11/dist-packages (from aiohttp!=4.0.0a0,!=4.0.0a1->fsspec[http]>=2022.5.0->pytorch_lightning) (6.4.3)\n",
            "Requirement already satisfied: propcache>=0.2.0 in /usr/local/lib/python3.11/dist-packages (from aiohttp!=4.0.0a0,!=4.0.0a1->fsspec[http]>=2022.5.0->pytorch_lightning) (0.3.1)\n",
            "Requirement already satisfied: yarl<2.0,>=1.17.0 in /usr/local/lib/python3.11/dist-packages (from aiohttp!=4.0.0a0,!=4.0.0a1->fsspec[http]>=2022.5.0->pytorch_lightning) (1.20.0)\n",
            "Requirement already satisfied: MarkupSafe>=2.0 in /usr/local/lib/python3.11/dist-packages (from jinja2->torch>=2.1.0->pytorch_lightning) (3.0.2)\n",
            "Requirement already satisfied: idna>=2.0 in /usr/local/lib/python3.11/dist-packages (from yarl<2.0,>=1.17.0->aiohttp!=4.0.0a0,!=4.0.0a1->fsspec[http]>=2022.5.0->pytorch_lightning) (3.10)\n",
            "Downloading pytorch_lightning-2.5.1.post0-py3-none-any.whl (823 kB)\n",
            "\u001b[2K   \u001b[90m━━━━━━━━━━━━━━━━━━━━━━━━━━━━━━━━━━━━━━━━\u001b[0m \u001b[32m823.1/823.1 kB\u001b[0m \u001b[31m35.8 MB/s\u001b[0m eta \u001b[36m0:00:00\u001b[0m\n",
            "\u001b[?25hDownloading lightning_utilities-0.14.3-py3-none-any.whl (28 kB)\n",
            "Downloading nvidia_cublas_cu12-12.4.5.8-py3-none-manylinux2014_x86_64.whl (363.4 MB)\n",
            "\u001b[2K   \u001b[90m━━━━━━━━━━━━━━━━━━━━━━━━━━━━━━━━━━━━━━━━\u001b[0m \u001b[32m363.4/363.4 MB\u001b[0m \u001b[31m4.4 MB/s\u001b[0m eta \u001b[36m0:00:00\u001b[0m\n",
            "\u001b[?25hDownloading nvidia_cuda_cupti_cu12-12.4.127-py3-none-manylinux2014_x86_64.whl (13.8 MB)\n",
            "\u001b[2K   \u001b[90m━━━━━━━━━━━━━━━━━━━━━━━━━━━━━━━━━━━━━━━━\u001b[0m \u001b[32m13.8/13.8 MB\u001b[0m \u001b[31m113.9 MB/s\u001b[0m eta \u001b[36m0:00:00\u001b[0m\n",
            "\u001b[?25hDownloading nvidia_cuda_nvrtc_cu12-12.4.127-py3-none-manylinux2014_x86_64.whl (24.6 MB)\n",
            "\u001b[2K   \u001b[90m━━━━━━━━━━━━━━━━━━━━━━━━━━━━━━━━━━━━━━━━\u001b[0m \u001b[32m24.6/24.6 MB\u001b[0m \u001b[31m95.7 MB/s\u001b[0m eta \u001b[36m0:00:00\u001b[0m\n",
            "\u001b[?25hDownloading nvidia_cuda_runtime_cu12-12.4.127-py3-none-manylinux2014_x86_64.whl (883 kB)\n",
            "\u001b[2K   \u001b[90m━━━━━━━━━━━━━━━━━━━━━━━━━━━━━━━━━━━━━━━━\u001b[0m \u001b[32m883.7/883.7 kB\u001b[0m \u001b[31m56.6 MB/s\u001b[0m eta \u001b[36m0:00:00\u001b[0m\n",
            "\u001b[?25hDownloading nvidia_cudnn_cu12-9.1.0.70-py3-none-manylinux2014_x86_64.whl (664.8 MB)\n",
            "\u001b[2K   \u001b[90m━━━━━━━━━━━━━━━━━━━━━━━━━━━━━━━━━━━━━━━━\u001b[0m \u001b[32m664.8/664.8 MB\u001b[0m \u001b[31m2.7 MB/s\u001b[0m eta \u001b[36m0:00:00\u001b[0m\n",
            "\u001b[?25hDownloading nvidia_cufft_cu12-11.2.1.3-py3-none-manylinux2014_x86_64.whl (211.5 MB)\n",
            "\u001b[2K   \u001b[90m━━━━━━━━━━━━━━━━━━━━━━━━━━━━━━━━━━━━━━━━\u001b[0m \u001b[32m211.5/211.5 MB\u001b[0m \u001b[31m5.5 MB/s\u001b[0m eta \u001b[36m0:00:00\u001b[0m\n",
            "\u001b[?25hDownloading nvidia_curand_cu12-10.3.5.147-py3-none-manylinux2014_x86_64.whl (56.3 MB)\n",
            "\u001b[2K   \u001b[90m━━━━━━━━━━━━━━━━━━━━━━━━━━━━━━━━━━━━━━━━\u001b[0m \u001b[32m56.3/56.3 MB\u001b[0m \u001b[31m13.3 MB/s\u001b[0m eta \u001b[36m0:00:00\u001b[0m\n",
            "\u001b[?25hDownloading nvidia_cusolver_cu12-11.6.1.9-py3-none-manylinux2014_x86_64.whl (127.9 MB)\n",
            "\u001b[2K   \u001b[90m━━━━━━━━━━━━━━━━━━━━━━━━━━━━━━━━━━━━━━━━\u001b[0m \u001b[32m127.9/127.9 MB\u001b[0m \u001b[31m7.4 MB/s\u001b[0m eta \u001b[36m0:00:00\u001b[0m\n",
            "\u001b[?25hDownloading nvidia_cusparse_cu12-12.3.1.170-py3-none-manylinux2014_x86_64.whl (207.5 MB)\n",
            "\u001b[2K   \u001b[90m━━━━━━━━━━━━━━━━━━━━━━━━━━━━━━━━━━━━━━━━\u001b[0m \u001b[32m207.5/207.5 MB\u001b[0m \u001b[31m5.1 MB/s\u001b[0m eta \u001b[36m0:00:00\u001b[0m\n",
            "\u001b[?25hDownloading nvidia_nvjitlink_cu12-12.4.127-py3-none-manylinux2014_x86_64.whl (21.1 MB)\n",
            "\u001b[2K   \u001b[90m━━━━━━━━━━━━━━━━━━━━━━━━━━━━━━━━━━━━━━━━\u001b[0m \u001b[32m21.1/21.1 MB\u001b[0m \u001b[31m68.6 MB/s\u001b[0m eta \u001b[36m0:00:00\u001b[0m\n",
            "\u001b[?25hDownloading torchmetrics-1.7.1-py3-none-any.whl (961 kB)\n",
            "\u001b[2K   \u001b[90m━━━━━━━━━━━━━━━━━━━━━━━━━━━━━━━━━━━━━━━━\u001b[0m \u001b[32m961.5/961.5 kB\u001b[0m \u001b[31m60.5 MB/s\u001b[0m eta \u001b[36m0:00:00\u001b[0m\n",
            "\u001b[?25hInstalling collected packages: nvidia-nvjitlink-cu12, nvidia-curand-cu12, nvidia-cufft-cu12, nvidia-cuda-runtime-cu12, nvidia-cuda-nvrtc-cu12, nvidia-cuda-cupti-cu12, nvidia-cublas-cu12, lightning-utilities, nvidia-cusparse-cu12, nvidia-cudnn-cu12, nvidia-cusolver-cu12, torchmetrics, pytorch_lightning\n",
            "  Attempting uninstall: nvidia-nvjitlink-cu12\n",
            "    Found existing installation: nvidia-nvjitlink-cu12 12.5.82\n",
            "    Uninstalling nvidia-nvjitlink-cu12-12.5.82:\n",
            "      Successfully uninstalled nvidia-nvjitlink-cu12-12.5.82\n",
            "  Attempting uninstall: nvidia-curand-cu12\n",
            "    Found existing installation: nvidia-curand-cu12 10.3.6.82\n",
            "    Uninstalling nvidia-curand-cu12-10.3.6.82:\n",
            "      Successfully uninstalled nvidia-curand-cu12-10.3.6.82\n",
            "  Attempting uninstall: nvidia-cufft-cu12\n",
            "    Found existing installation: nvidia-cufft-cu12 11.2.3.61\n",
            "    Uninstalling nvidia-cufft-cu12-11.2.3.61:\n",
            "      Successfully uninstalled nvidia-cufft-cu12-11.2.3.61\n",
            "  Attempting uninstall: nvidia-cuda-runtime-cu12\n",
            "    Found existing installation: nvidia-cuda-runtime-cu12 12.5.82\n",
            "    Uninstalling nvidia-cuda-runtime-cu12-12.5.82:\n",
            "      Successfully uninstalled nvidia-cuda-runtime-cu12-12.5.82\n",
            "  Attempting uninstall: nvidia-cuda-nvrtc-cu12\n",
            "    Found existing installation: nvidia-cuda-nvrtc-cu12 12.5.82\n",
            "    Uninstalling nvidia-cuda-nvrtc-cu12-12.5.82:\n",
            "      Successfully uninstalled nvidia-cuda-nvrtc-cu12-12.5.82\n",
            "  Attempting uninstall: nvidia-cuda-cupti-cu12\n",
            "    Found existing installation: nvidia-cuda-cupti-cu12 12.5.82\n",
            "    Uninstalling nvidia-cuda-cupti-cu12-12.5.82:\n",
            "      Successfully uninstalled nvidia-cuda-cupti-cu12-12.5.82\n",
            "  Attempting uninstall: nvidia-cublas-cu12\n",
            "    Found existing installation: nvidia-cublas-cu12 12.5.3.2\n",
            "    Uninstalling nvidia-cublas-cu12-12.5.3.2:\n",
            "      Successfully uninstalled nvidia-cublas-cu12-12.5.3.2\n",
            "  Attempting uninstall: nvidia-cusparse-cu12\n",
            "    Found existing installation: nvidia-cusparse-cu12 12.5.1.3\n",
            "    Uninstalling nvidia-cusparse-cu12-12.5.1.3:\n",
            "      Successfully uninstalled nvidia-cusparse-cu12-12.5.1.3\n",
            "  Attempting uninstall: nvidia-cudnn-cu12\n",
            "    Found existing installation: nvidia-cudnn-cu12 9.3.0.75\n",
            "    Uninstalling nvidia-cudnn-cu12-9.3.0.75:\n",
            "      Successfully uninstalled nvidia-cudnn-cu12-9.3.0.75\n",
            "  Attempting uninstall: nvidia-cusolver-cu12\n",
            "    Found existing installation: nvidia-cusolver-cu12 11.6.3.83\n",
            "    Uninstalling nvidia-cusolver-cu12-11.6.3.83:\n",
            "      Successfully uninstalled nvidia-cusolver-cu12-11.6.3.83\n",
            "Successfully installed lightning-utilities-0.14.3 nvidia-cublas-cu12-12.4.5.8 nvidia-cuda-cupti-cu12-12.4.127 nvidia-cuda-nvrtc-cu12-12.4.127 nvidia-cuda-runtime-cu12-12.4.127 nvidia-cudnn-cu12-9.1.0.70 nvidia-cufft-cu12-11.2.1.3 nvidia-curand-cu12-10.3.5.147 nvidia-cusolver-cu12-11.6.1.9 nvidia-cusparse-cu12-12.3.1.170 nvidia-nvjitlink-cu12-12.4.127 pytorch_lightning-2.5.1.post0 torchmetrics-1.7.1\n"
          ]
        }
      ],
      "source": [
        "# Auto-setup when running on Google Colab\n",
        "if 'google.colab' in str(get_ipython()):\n",
        "    !pip install openml\n",
        "    !pip install pytorch_lightning\n",
        "\n",
        "# General imports\n",
        "%matplotlib inline\n",
        "import numpy as np\n",
        "import pandas as pd\n",
        "import openml as oml\n",
        "import random\n",
        "import matplotlib.pyplot as plt\n",
        "import pytorch_lightning as pl\n",
        "import torch\n",
        "import torch.nn.functional as F\n",
        "from torch import nn\n",
        "from torch.utils.data import DataLoader, random_split\n",
        "from torchvision import datasets, transforms\n",
        "from torchsummary import summary\n",
        "from sklearn.metrics import classification_report"
      ]
    },
    {
      "cell_type": "code",
      "execution_count": 2,
      "metadata": {
        "id": "Tn8ERmrzaI_9",
        "colab": {
          "base_uri": "https://localhost:8080/",
          "height": 245
        },
        "outputId": "215e81b7-b510-4e73-cad8-4a0409ae66d8"
      },
      "outputs": [
        {
          "output_type": "stream",
          "name": "stderr",
          "text": [
            "<ipython-input-2-cd5f478f5b18>:3: FutureWarning: Support for `dataset_format='array'` will be removed in 0.15,start using `dataset_format='dataframe' to ensure your code will continue to work. You can use the dataframe's `to_numpy` function to continue using numpy arrays.\n",
            "  X, y, _, _ = mnist.get_data(target=mnist.default_target_attribute, dataset_format='array');\n"
          ]
        },
        {
          "output_type": "display_data",
          "data": {
            "text/plain": [
              "<Figure size 1000x500 with 5 Axes>"
            ],
            "image/png": "[encoded data removed]"
          },
          "metadata": {}
        }
      ],
      "source": [
        "# Download MNIST data. Takes a while the first time.\n",
        "mnist = oml.datasets.get_dataset(554)\n",
        "X, y, _, _ = mnist.get_data(target=mnist.default_target_attribute, dataset_format='array');\n",
        "X = X.reshape(70000, 28, 28)\n",
        "\n",
        "# Take some random examples\n",
        "from random import randint\n",
        "fig, axes = plt.subplots(1, 5,  figsize=(10, 5))\n",
        "for i in range(5):\n",
        "    n = randint(0,70000)\n",
        "    axes[i].imshow(X[n], cmap=plt.cm.gray_r)\n",
        "    axes[i].set_xticks([])\n",
        "    axes[i].set_yticks([])\n",
        "    axes[i].set_xlabel(\"{}\".format(y[n]))\n",
        "plt.show();"
      ]
    },
    {
      "cell_type": "code",
      "execution_count": 3,
      "metadata": {
        "id": "JZlvdpyYKx7V"
      },
      "outputs": [],
      "source": [
        "# For MNIST, there exists a predefined stratified train-test split of 60000-10000. We therefore don't shuffle or stratify here.\n",
        "from sklearn.model_selection import train_test_split\n",
        "X_train, X_test, y_train, y_test = train_test_split(X, y, train_size=60000, random_state=0)"
      ]
    },
    {
      "cell_type": "markdown",
      "metadata": {
        "id": "8ldP-5z1B2vL"
      },
      "source": [
        "## Exercise 1: Preprocessing\n",
        "* Normalize the data: map each feature value from its current representation (an integer between 0 and 255) to a floating-point value between 0 and 1.0.\n",
        "* Create a train-test split using the first 60000 examples for training\n",
        "* (Optional) Flatten the data\n",
        "* (Optional) Convert the data (numpy arrays) to PyTorch tensors\n",
        "* Create a TensorDataset for the training data, and another for the testing data"
      ]
    },
    {
      "cell_type": "code",
      "source": [
        "# Normalize the data\n",
        "X_train = X_train / 255.0\n",
        "X_test = X_test / 255.0"
      ],
      "metadata": {
        "id": "3pXfxXzbs4-V"
      },
      "execution_count": 4,
      "outputs": []
    },
    {
      "cell_type": "code",
      "source": [
        "# Flatten the data\n",
        "X_train = X_train.reshape(-1, 28*28).astype(np.float32)\n",
        "X_test = X_test.reshape(-1, 28*28).astype(np.float32)"
      ],
      "metadata": {
        "id": "R_qOkcL6wEfy"
      },
      "execution_count": 5,
      "outputs": []
    },
    {
      "cell_type": "code",
      "source": [
        "y_train = y_train.astype(np.int64)\n",
        "y_test = y_test.astype(np.int64)\n",
        "\n",
        "print(\"Input shape:\", X_train[0].shape)\n",
        "print(\"Output shape:\", y_train[0].shape)"
      ],
      "metadata": {
        "colab": {
          "base_uri": "https://localhost:8080/"
        },
        "id": "P25Lt-pOzecx",
        "outputId": "a24f116a-04bc-477d-fe03-23e34d83709c"
      },
      "execution_count": 6,
      "outputs": [
        {
          "output_type": "stream",
          "name": "stdout",
          "text": [
            "Input shape: (784,)\n",
            "Output shape: ()\n"
          ]
        }
      ]
    },
    {
      "cell_type": "code",
      "source": [
        "# Convert the data to PyTorch tensors\n",
        "X_train_tensor = torch.tensor(X_train)\n",
        "y_train_tensor = torch.tensor(y_train)\n",
        "X_test_tensor = torch.tensor(X_test)\n",
        "y_test_tensor = torch.tensor(y_test)"
      ],
      "metadata": {
        "id": "T7Ajrj7r0FQi"
      },
      "execution_count": 7,
      "outputs": []
    },
    {
      "cell_type": "code",
      "source": [
        "# Create a TensorDataset\n",
        "train_dataset = torch.utils.data.TensorDataset(X_train_tensor, y_train_tensor)\n",
        "test_dataset = torch.utils.data.TensorDataset(X_test_tensor, y_test_tensor)"
      ],
      "metadata": {
        "id": "OolGfE4z0QG9"
      },
      "execution_count": 8,
      "outputs": []
    },
    {
      "cell_type": "markdown",
      "metadata": {
        "id": "3014ezH3C7jT"
      },
      "source": [
        "## Exercise 2: Create a deep neural net model\n",
        "\n",
        "Implement a `create_model` function which defines the topography of the deep neural net, specifying the following:\n",
        "\n",
        "* The number of layers in the deep neural net: Use 2 dense layers for now (one hidden en one output layer)\n",
        "* The number of nodes in each layer: these are parameters of your function.\n",
        "* Any regularization layers. Add at least one dropout layer.\n",
        "\n",
        "Consider:\n",
        "* What should be the shape of the input layer?\n",
        "* Which activation function you will need for the last layer, since this is a 10-class classification problem?"
      ]
    },
    {
      "cell_type": "code",
      "execution_count": 9,
      "metadata": {
        "id": "61qsSQ_-aJAA"
      },
      "outputs": [],
      "source": [
        "### Create and compile a 'deep' neural net\n",
        "class Neural_Networks_1(nn.Module):\n",
        "    def __init__(self, layer_1_units=32, layer_2_units=10, dropout_rate=0.3):\n",
        "        super(Neural_Networks_1, self).__init__()\n",
        "        self.fc1 = nn.Linear(28*28, layer_1_units)\n",
        "        self.dropout = nn.Dropout(dropout_rate)\n",
        "        self.fc2 = nn.Linear(layer_1_units, layer_2_units)\n",
        "\n",
        "    def forward(self, x):\n",
        "        x = F.relu(self.fc1(x))\n",
        "        x = self.dropout(x)\n",
        "        x = self.fc2(x)\n",
        "        return x\n",
        "\n",
        "def create_model(layer_1_units=32, layer_2_units=10, dropout_rate=0.3):\n",
        "    return Neural_Networks_1(layer_1_units, layer_2_units, dropout_rate)"
      ]
    },
    {
      "cell_type": "markdown",
      "metadata": {
        "id": "bw8LEzRtaJAA"
      },
      "source": [
        "## Exercise 3: Create a training function\n",
        "Implement a `train_model` function which trains and evaluates a given model.\n",
        "It should print out the train and validation loss and accuracy."
      ]
    },
    {
      "cell_type": "code",
      "execution_count": 10,
      "metadata": {
        "id": "jmicepIDaJAB"
      },
      "outputs": [],
      "source": [
        "def train_model(model, train_dataset, val_dataset, epochs=10, batch_size=64, learning_rate=0.001):\n",
        "    \"\"\"\n",
        "    model: the model to train\n",
        "    train_dataset: the training data and labels\n",
        "    test_dataset: the test data and labels\n",
        "    epochs: the number of epochs to train for\n",
        "    batch_size: the batch size for minibatch SGD\n",
        "    learning_rate: the learning rate for the optimizer\n",
        "    \"\"\"\n",
        "\n",
        "    device = torch.device('cuda' if torch.cuda.is_available() else 'cpu')\n",
        "    model.to(device)\n",
        "\n",
        "    train_loader = DataLoader(train_dataset, batch_size=batch_size, shuffle=True)\n",
        "    val_loader = DataLoader(val_dataset, batch_size=batch_size)\n",
        "\n",
        "    optimizer = torch.optim.Adam(model.parameters(), lr=learning_rate)\n",
        "    criterion = nn.CrossEntropyLoss()\n",
        "\n",
        "    history = {'accuracy': [], 'val_accuracy': [], 'loss': [], 'val_loss': []}\n",
        "\n",
        "    for epoch in range(epochs):\n",
        "        # Training phase\n",
        "        model.train()\n",
        "        running_loss = 0\n",
        "        correct = 0\n",
        "        total = 0\n",
        "        for X_batch, y_batch in train_loader:\n",
        "            X_batch, y_batch = X_batch.to(device), y_batch.to(device)\n",
        "\n",
        "            optimizer.zero_grad()\n",
        "            outputs = model(X_batch)\n",
        "            loss = criterion(outputs, y_batch)\n",
        "            loss.backward()\n",
        "            optimizer.step()\n",
        "\n",
        "            running_loss += loss.item()\n",
        "            _, predicted = outputs.max(1)\n",
        "            total += y_batch.size(0)\n",
        "            correct += predicted.eq(y_batch).sum().item()\n",
        "\n",
        "        train_loss = running_loss / len(train_loader)\n",
        "        train_accuracy = correct / total\n",
        "\n",
        "        # Validation phase\n",
        "        model.eval()\n",
        "        val_loss = 0\n",
        "        correct = 0\n",
        "        total = 0\n",
        "        with torch.no_grad():\n",
        "            for X_batch, y_batch in val_loader:\n",
        "                X_batch, y_batch = X_batch.to(device), y_batch.to(device)\n",
        "\n",
        "                outputs = model(X_batch)\n",
        "                loss = criterion(outputs, y_batch)\n",
        "\n",
        "                val_loss += loss.item()\n",
        "                _, predicted = outputs.max(1)\n",
        "                total += y_batch.size(0)\n",
        "                correct += predicted.eq(y_batch).sum().item()\n",
        "\n",
        "        val_loss = val_loss / len(val_loader)\n",
        "        val_accuracy = correct / total\n",
        "\n",
        "        # Store history\n",
        "        history['loss'].append(train_loss)\n",
        "        history['accuracy'].append(train_accuracy)\n",
        "        history['val_loss'].append(val_loss)\n",
        "        history['val_accuracy'].append(val_accuracy)\n",
        "\n",
        "        print(f\"Epoch {epoch+1}/{epochs}: Train Loss={train_loss:.4f}, Train Acc={train_accuracy:.4f}, Val Loss={val_loss:.4f}, Val Acc={val_accuracy:.4f}\")\n",
        "\n",
        "    return history"
      ]
    },
    {
      "cell_type": "markdown",
      "metadata": {
        "id": "D-IXYVfvM4gD"
      },
      "source": [
        "## Exercise 4: Evaluate the model\n",
        "\n",
        "Train the model with a learning rate of 0.003, 50 epochs, batch size 4000, and a validation set that is 20% of the total training data.\n",
        "\n",
        "Use default settings otherwise. Plot the learning curve of the loss, validation loss, accuracy, and validation accuracy. Finally, report the performance on the test set.\n",
        "\n",
        "Try to run the model on GPU.\n",
        "\n",
        "Feel free to use the plotting function below, or implement the callback from the tutorial to see results in real time."
      ]
    },
    {
      "cell_type": "code",
      "source": [
        "# Prepare phrase\n",
        "train_size = int(0.8 * len(train_dataset))\n",
        "val_size = len(train_dataset) - train_size\n",
        "train_subset, val_subset = random_split(train_dataset, [train_size, val_size])"
      ],
      "metadata": {
        "id": "l7ocXb9x4WYx"
      },
      "execution_count": 11,
      "outputs": []
    },
    {
      "cell_type": "code",
      "source": [
        "# Create the model\n",
        "model = create_model().to('cuda')\n",
        "summary(model, (1,784))"
      ],
      "metadata": {
        "colab": {
          "base_uri": "https://localhost:8080/"
        },
        "id": "sbfuFaNS485Z",
        "outputId": "914ac343-092b-42cc-8c93-df796a1420e6"
      },
      "execution_count": 12,
      "outputs": [
        {
          "output_type": "stream",
          "name": "stdout",
          "text": [
            "----------------------------------------------------------------\n",
            "        Layer (type)               Output Shape         Param #\n",
            "================================================================\n",
            "            Linear-1                [-1, 1, 32]          25,120\n",
            "           Dropout-2                [-1, 1, 32]               0\n",
            "            Linear-3                [-1, 1, 10]             330\n",
            "================================================================\n",
            "Total params: 25,450\n",
            "Trainable params: 25,450\n",
            "Non-trainable params: 0\n",
            "----------------------------------------------------------------\n",
            "Input size (MB): 0.00\n",
            "Forward/backward pass size (MB): 0.00\n",
            "Params size (MB): 0.10\n",
            "Estimated Total Size (MB): 0.10\n",
            "----------------------------------------------------------------\n"
          ]
        }
      ]
    },
    {
      "cell_type": "code",
      "source": [
        "# Training phrase\n",
        "history = train_model(model, train_subset, val_subset, epochs=50, batch_size=4000, learning_rate=0.003)"
      ],
      "metadata": {
        "colab": {
          "base_uri": "https://localhost:8080/"
        },
        "id": "xgeVJZyQ332M",
        "outputId": "1fb0407f-bba6-4f26-96d7-1a3f4133f7b9"
      },
      "execution_count": 13,
      "outputs": [
        {
          "output_type": "stream",
          "name": "stdout",
          "text": [
            "Epoch 1/50: Train Loss=1.7861, Train Acc=0.4991, Val Loss=1.1786, Val Acc=0.7827\n",
            "Epoch 2/50: Train Loss=1.0150, Train Acc=0.7251, Val Loss=0.6478, Val Acc=0.8494\n",
            "Epoch 3/50: Train Loss=0.7107, Train Acc=0.7919, Val Loss=0.4909, Val Acc=0.8734\n",
            "Epoch 4/50: Train Loss=0.5863, Train Acc=0.8270, Val Loss=0.4177, Val Acc=0.8862\n",
            "Epoch 5/50: Train Loss=0.5214, Train Acc=0.8462, Val Loss=0.3763, Val Acc=0.8972\n",
            "Epoch 6/50: Train Loss=0.4829, Train Acc=0.8597, Val Loss=0.3470, Val Acc=0.9032\n",
            "Epoch 7/50: Train Loss=0.4466, Train Acc=0.8700, Val Loss=0.3244, Val Acc=0.9077\n",
            "Epoch 8/50: Train Loss=0.4275, Train Acc=0.8775, Val Loss=0.3085, Val Acc=0.9121\n",
            "Epoch 9/50: Train Loss=0.4097, Train Acc=0.8808, Val Loss=0.2944, Val Acc=0.9167\n",
            "Epoch 10/50: Train Loss=0.3930, Train Acc=0.8856, Val Loss=0.2815, Val Acc=0.9197\n",
            "Epoch 11/50: Train Loss=0.3802, Train Acc=0.8898, Val Loss=0.2720, Val Acc=0.9228\n",
            "Epoch 12/50: Train Loss=0.3675, Train Acc=0.8956, Val Loss=0.2625, Val Acc=0.9239\n",
            "Epoch 13/50: Train Loss=0.3568, Train Acc=0.8969, Val Loss=0.2553, Val Acc=0.9265\n",
            "Epoch 14/50: Train Loss=0.3476, Train Acc=0.8986, Val Loss=0.2498, Val Acc=0.9283\n",
            "Epoch 15/50: Train Loss=0.3370, Train Acc=0.9019, Val Loss=0.2411, Val Acc=0.9308\n",
            "Epoch 16/50: Train Loss=0.3312, Train Acc=0.9033, Val Loss=0.2368, Val Acc=0.9318\n",
            "Epoch 17/50: Train Loss=0.3254, Train Acc=0.9042, Val Loss=0.2314, Val Acc=0.9337\n",
            "Epoch 18/50: Train Loss=0.3180, Train Acc=0.9080, Val Loss=0.2263, Val Acc=0.9347\n",
            "Epoch 19/50: Train Loss=0.3103, Train Acc=0.9113, Val Loss=0.2213, Val Acc=0.9361\n",
            "Epoch 20/50: Train Loss=0.3088, Train Acc=0.9101, Val Loss=0.2179, Val Acc=0.9362\n",
            "Epoch 21/50: Train Loss=0.3000, Train Acc=0.9133, Val Loss=0.2128, Val Acc=0.9371\n",
            "Epoch 22/50: Train Loss=0.2950, Train Acc=0.9136, Val Loss=0.2100, Val Acc=0.9387\n",
            "Epoch 23/50: Train Loss=0.2925, Train Acc=0.9156, Val Loss=0.2070, Val Acc=0.9387\n",
            "Epoch 24/50: Train Loss=0.2887, Train Acc=0.9151, Val Loss=0.2043, Val Acc=0.9383\n",
            "Epoch 25/50: Train Loss=0.2862, Train Acc=0.9150, Val Loss=0.2034, Val Acc=0.9394\n",
            "Epoch 26/50: Train Loss=0.2797, Train Acc=0.9172, Val Loss=0.1997, Val Acc=0.9407\n",
            "Epoch 27/50: Train Loss=0.2752, Train Acc=0.9190, Val Loss=0.1964, Val Acc=0.9414\n",
            "Epoch 28/50: Train Loss=0.2726, Train Acc=0.9201, Val Loss=0.1948, Val Acc=0.9410\n",
            "Epoch 29/50: Train Loss=0.2690, Train Acc=0.9217, Val Loss=0.1917, Val Acc=0.9421\n",
            "Epoch 30/50: Train Loss=0.2688, Train Acc=0.9207, Val Loss=0.1905, Val Acc=0.9430\n",
            "Epoch 31/50: Train Loss=0.2656, Train Acc=0.9226, Val Loss=0.1861, Val Acc=0.9430\n",
            "Epoch 32/50: Train Loss=0.2586, Train Acc=0.9242, Val Loss=0.1849, Val Acc=0.9453\n",
            "Epoch 33/50: Train Loss=0.2602, Train Acc=0.9235, Val Loss=0.1837, Val Acc=0.9447\n",
            "Epoch 34/50: Train Loss=0.2527, Train Acc=0.9269, Val Loss=0.1812, Val Acc=0.9468\n",
            "Epoch 35/50: Train Loss=0.2510, Train Acc=0.9244, Val Loss=0.1781, Val Acc=0.9472\n",
            "Epoch 36/50: Train Loss=0.2515, Train Acc=0.9249, Val Loss=0.1789, Val Acc=0.9467\n",
            "Epoch 37/50: Train Loss=0.2501, Train Acc=0.9263, Val Loss=0.1761, Val Acc=0.9478\n",
            "Epoch 38/50: Train Loss=0.2459, Train Acc=0.9264, Val Loss=0.1743, Val Acc=0.9481\n",
            "Epoch 39/50: Train Loss=0.2419, Train Acc=0.9283, Val Loss=0.1730, Val Acc=0.9472\n",
            "Epoch 40/50: Train Loss=0.2416, Train Acc=0.9283, Val Loss=0.1709, Val Acc=0.9487\n",
            "Epoch 41/50: Train Loss=0.2381, Train Acc=0.9295, Val Loss=0.1694, Val Acc=0.9489\n",
            "Epoch 42/50: Train Loss=0.2373, Train Acc=0.9283, Val Loss=0.1683, Val Acc=0.9495\n",
            "Epoch 43/50: Train Loss=0.2329, Train Acc=0.9308, Val Loss=0.1662, Val Acc=0.9504\n",
            "Epoch 44/50: Train Loss=0.2331, Train Acc=0.9314, Val Loss=0.1656, Val Acc=0.9519\n",
            "Epoch 45/50: Train Loss=0.2322, Train Acc=0.9309, Val Loss=0.1645, Val Acc=0.9513\n",
            "Epoch 46/50: Train Loss=0.2294, Train Acc=0.9309, Val Loss=0.1635, Val Acc=0.9502\n",
            "Epoch 47/50: Train Loss=0.2277, Train Acc=0.9317, Val Loss=0.1629, Val Acc=0.9516\n",
            "Epoch 48/50: Train Loss=0.2244, Train Acc=0.9336, Val Loss=0.1614, Val Acc=0.9519\n",
            "Epoch 49/50: Train Loss=0.2252, Train Acc=0.9316, Val Loss=0.1610, Val Acc=0.9533\n",
            "Epoch 50/50: Train Loss=0.2204, Train Acc=0.9326, Val Loss=0.1592, Val Acc=0.9535\n"
          ]
        }
      ]
    },
    {
      "cell_type": "code",
      "execution_count": 14,
      "metadata": {
        "cellView": "form",
        "id": "QF0BFRXTOeR3"
      },
      "outputs": [],
      "source": [
        "# Helper plotting function\n",
        "#\n",
        "# history: the history object returned by the training function\n",
        "\n",
        "def plot_curve(history):\n",
        "    \"\"\"\n",
        "    Plots the learning curves for accuracy and loss.\n",
        "\n",
        "    history: Dictionary containing 'accuracy', 'val_accuracy', 'loss', 'val_loss' per epoch.\n",
        "    \"\"\"\n",
        "    epochs = range(1, len(history[\"accuracy\"]) + 1)\n",
        "\n",
        "    plt.figure(figsize=(12, 5))\n",
        "\n",
        "    # Accuracy Plot\n",
        "    plt.subplot(1, 2, 1)\n",
        "    plt.plot(epochs, history[\"accuracy\"], label=\"Train Accuracy\")\n",
        "    plt.plot(epochs, history[\"val_accuracy\"], label=\"Validation Accuracy\")\n",
        "    plt.xlabel(\"Epochs\")\n",
        "    plt.ylabel(\"Accuracy\")\n",
        "    plt.title(\"Accuracy Curve\")\n",
        "    plt.legend()\n",
        "\n",
        "    # Loss Plot\n",
        "    plt.subplot(1, 2, 2)\n",
        "    plt.plot(epochs, history[\"loss\"], label=\"Train Loss\")\n",
        "    plt.plot(epochs, history[\"val_loss\"], label=\"Validation Loss\")\n",
        "    plt.xlabel(\"Epochs\")\n",
        "    plt.ylabel(\"Loss\")\n",
        "    plt.title(\"Loss Curve\")\n",
        "    plt.legend()\n",
        "\n",
        "    plt.show()"
      ]
    },
    {
      "cell_type": "code",
      "source": [
        "# Plot learning curve\n",
        "plot_curve(history)"
      ],
      "metadata": {
        "colab": {
          "base_uri": "https://localhost:8080/",
          "height": 487
        },
        "id": "Pm9eIBfa7CEx",
        "outputId": "f7a0de6b-5c45-4b6b-f793-29485aa8bd2a"
      },
      "execution_count": 15,
      "outputs": [
        {
          "output_type": "display_data",
          "data": {
            "text/plain": [
              "<Figure size 1200x500 with 2 Axes>"
            ],
            "image/png": "[encoded data removed]"
          },
          "metadata": {}
        }
      ]
    },
    {
      "cell_type": "code",
      "source": [
        "# performance on the test set\n",
        "def evaluate(model, test_dataset, batch_size=64):\n",
        "    test_loader = DataLoader(test_dataset, batch_size=batch_size, shuffle=False)\n",
        "    device = torch.device('cuda' if torch.cuda.is_available() else 'cpu')\n",
        "    model.to(device)\n",
        "    model.eval()\n",
        "\n",
        "    all_preds = []\n",
        "    all_labels = []\n",
        "\n",
        "    with torch.no_grad():\n",
        "        for inputs, labels in test_loader:\n",
        "            inputs, labels = inputs.to(device), labels.to(device)\n",
        "            outputs = model(inputs)\n",
        "            preds = torch.argmax(outputs, dim=1)\n",
        "            all_preds.append(preds.cpu())\n",
        "            all_labels.append(labels.cpu())\n",
        "\n",
        "    all_preds = torch.cat(all_preds)\n",
        "    all_labels = torch.cat(all_labels)\n",
        "\n",
        "    # Print classification report\n",
        "    print(classification_report(all_labels, all_preds, digits=4))\n",
        "\n",
        "evaluate(model, test_dataset)"
      ],
      "metadata": {
        "colab": {
          "base_uri": "https://localhost:8080/"
        },
        "id": "3RGTCumJ7Rqs",
        "outputId": "625f33a0-145a-41d6-c189-53966e9f5ee4"
      },
      "execution_count": 16,
      "outputs": [
        {
          "output_type": "stream",
          "name": "stdout",
          "text": [
            "              precision    recall  f1-score   support\n",
            "\n",
            "           0     0.9780    0.9809    0.9794       996\n",
            "           1     0.9773    0.9790    0.9781      1141\n",
            "           2     0.9445    0.9490    0.9468      1040\n",
            "           3     0.9334    0.9269    0.9302      1013\n",
            "           4     0.9347    0.9522    0.9434       962\n",
            "           5     0.9330    0.9363    0.9346       863\n",
            "           6     0.9629    0.9697    0.9662       989\n",
            "           7     0.9605    0.9605    0.9605      1064\n",
            "           8     0.9538    0.9211    0.9371       963\n",
            "           9     0.9289    0.9309    0.9299       969\n",
            "\n",
            "    accuracy                         0.9514     10000\n",
            "   macro avg     0.9507    0.9506    0.9506     10000\n",
            "weighted avg     0.9514    0.9514    0.9514     10000\n",
            "\n"
          ]
        }
      ]
    },
    {
      "cell_type": "code",
      "source": [
        "def predict_random_images(model, test_dataset):\n",
        "    device = torch.device('cuda' if torch.cuda.is_available() else 'cpu')\n",
        "    model.to(device)\n",
        "    model.eval()\n",
        "\n",
        "    idx = random.sample(range(len(test_dataset)), 5)\n",
        "    images = []\n",
        "    labels = []\n",
        "    for i in idx:\n",
        "        img, label = test_dataset[i]\n",
        "        images.append(img)\n",
        "        labels.append(label)\n",
        "\n",
        "    images_tensor = torch.stack(images).to(device)\n",
        "\n",
        "    with torch.no_grad():\n",
        "        outputs = model(images_tensor)\n",
        "        preds = torch.argmax(outputs, dim=1)\n",
        "\n",
        "    fig, axes = plt.subplots(1, 5, figsize=(15, 5))\n",
        "    for i in range(5):\n",
        "        img = images[i].squeeze().cpu().numpy()\n",
        "        axes[i].imshow(img.reshape(28,28), cmap=\"gray\")\n",
        "        axes[i].set_title(f\"True: {labels[i]}\\nPred: {preds[i].item()}\")\n",
        "        axes[i].axis('off')\n",
        "    plt.show()\n",
        "predict_random_images(model, test_dataset)"
      ],
      "metadata": {
        "colab": {
          "base_uri": "https://localhost:8080/",
          "height": 280
        },
        "id": "oMKaaai--t0k",
        "outputId": "d9ea3cbc-2a34-4a8e-92e8-26baa11e0f6b"
      },
      "execution_count": 17,
      "outputs": [
        {
          "output_type": "display_data",
          "data": {
            "text/plain": [
              "<Figure size 1500x500 with 5 Axes>"
            ],
            "image/png": "[encoded data removed]"
          },
          "metadata": {}
        }
      ]
    },
    {
      "cell_type": "markdown",
      "metadata": {
        "id": "Y5IKmk7D49_n"
      },
      "source": [
        "## Exercise 5: Optimize the model\n",
        "\n",
        "Try to optimize the model, either manually or with a tuning method. At least optimize the following:\n",
        "* the number of hidden layers\n",
        "* the number of nodes in each layer\n",
        "* the amount of dropout layers and the dropout rate\n",
        "\n",
        "Try to reach at least 96% accuracy against the test set."
      ]
    },
    {
      "cell_type": "code",
      "source": [
        "class Neural_Networks_2(nn.Module):\n",
        "    def __init__(self, layer_1_units=256, layer_2_units=128, layer_3_units=64, dropout_rate=0.4):\n",
        "        super(Neural_Networks_2, self).__init__()\n",
        "        self.fc1 = nn.Linear(28*28, layer_1_units)\n",
        "        self.fc2 = nn.Linear(layer_1_units, layer_2_units)\n",
        "        self.fc3 = nn.Linear(layer_2_units, layer_3_units)\n",
        "        self.fc4 = nn.Linear(layer_3_units, 10)\n",
        "        self.dropout = nn.Dropout(dropout_rate)\n",
        "\n",
        "    def forward(self, x):\n",
        "        x = F.relu(self.fc1(x))\n",
        "        x = self.dropout(x)\n",
        "        x = F.relu(self.fc2(x))\n",
        "        x = self.dropout(x)\n",
        "        x = F.relu(self.fc3(x))\n",
        "        x = self.dropout(x)\n",
        "        x = self.fc4(x)\n",
        "        return x\n",
        "\n",
        "def create_model_2(layer_1_units=256, layer_2_units=128, layer_3_units=64, dropout_rate=0.4):\n",
        "    return Neural_Networks_2(layer_1_units, layer_2_units, layer_3_units, dropout_rate)"
      ],
      "metadata": {
        "id": "a6ZjY9urBFeq"
      },
      "execution_count": 18,
      "outputs": []
    },
    {
      "cell_type": "code",
      "source": [
        "model_2 = create_model_2(layer_1_units=256, layer_2_units=128, layer_3_units=64, dropout_rate=0.4).to('cuda')\n",
        "summary(model_2, (1,784))\n",
        "history_2 = train_model(model_2, train_subset, val_subset, epochs=50, batch_size=4000, learning_rate=0.003)\n",
        "plot_curve(history_2)\n",
        "evaluate(model_2, test_dataset)\n",
        "predict_random_images(model_2, test_dataset)"
      ],
      "metadata": {
        "colab": {
          "base_uri": "https://localhost:8080/",
          "height": 1000
        },
        "id": "eg_4FPtQDSh3",
        "outputId": "f189078b-d7bb-4c6c-c80d-a9789b60763e"
      },
      "execution_count": 19,
      "outputs": [
        {
          "output_type": "stream",
          "name": "stdout",
          "text": [
            "----------------------------------------------------------------\n",
            "        Layer (type)               Output Shape         Param #\n",
            "================================================================\n",
            "            Linear-1               [-1, 1, 256]         200,960\n",
            "           Dropout-2               [-1, 1, 256]               0\n",
            "            Linear-3               [-1, 1, 128]          32,896\n",
            "           Dropout-4               [-1, 1, 128]               0\n",
            "            Linear-5                [-1, 1, 64]           8,256\n",
            "           Dropout-6                [-1, 1, 64]               0\n",
            "            Linear-7                [-1, 1, 10]             650\n",
            "================================================================\n",
            "Total params: 242,762\n",
            "Trainable params: 242,762\n",
            "Non-trainable params: 0\n",
            "----------------------------------------------------------------\n",
            "Input size (MB): 0.00\n",
            "Forward/backward pass size (MB): 0.01\n",
            "Params size (MB): 0.93\n",
            "Estimated Total Size (MB): 0.94\n",
            "----------------------------------------------------------------\n",
            "Epoch 1/50: Train Loss=1.7439, Train Acc=0.4142, Val Loss=0.6618, Val Acc=0.8009\n",
            "Epoch 2/50: Train Loss=0.7136, Train Acc=0.7749, Val Loss=0.3722, Val Acc=0.8864\n",
            "Epoch 3/50: Train Loss=0.4525, Train Acc=0.8683, Val Loss=0.2787, Val Acc=0.9124\n",
            "Epoch 4/50: Train Loss=0.3500, Train Acc=0.9009, Val Loss=0.2243, Val Acc=0.9316\n",
            "Epoch 5/50: Train Loss=0.2919, Train Acc=0.9201, Val Loss=0.1907, Val Acc=0.9423\n",
            "Epoch 6/50: Train Loss=0.2495, Train Acc=0.9312, Val Loss=0.1644, Val Acc=0.9497\n",
            "Epoch 7/50: Train Loss=0.2260, Train Acc=0.9400, Val Loss=0.1508, Val Acc=0.9538\n",
            "Epoch 8/50: Train Loss=0.1970, Train Acc=0.9470, Val Loss=0.1353, Val Acc=0.9600\n",
            "Epoch 9/50: Train Loss=0.1793, Train Acc=0.9513, Val Loss=0.1242, Val Acc=0.9617\n",
            "Epoch 10/50: Train Loss=0.1654, Train Acc=0.9555, Val Loss=0.1202, Val Acc=0.9642\n",
            "Epoch 11/50: Train Loss=0.1519, Train Acc=0.9594, Val Loss=0.1096, Val Acc=0.9663\n",
            "Epoch 12/50: Train Loss=0.1401, Train Acc=0.9622, Val Loss=0.1058, Val Acc=0.9685\n",
            "Epoch 13/50: Train Loss=0.1290, Train Acc=0.9648, Val Loss=0.0954, Val Acc=0.9726\n",
            "Epoch 14/50: Train Loss=0.1238, Train Acc=0.9665, Val Loss=0.1009, Val Acc=0.9698\n",
            "Epoch 15/50: Train Loss=0.1148, Train Acc=0.9677, Val Loss=0.0947, Val Acc=0.9720\n",
            "Epoch 16/50: Train Loss=0.1082, Train Acc=0.9699, Val Loss=0.0932, Val Acc=0.9730\n",
            "Epoch 17/50: Train Loss=0.1038, Train Acc=0.9706, Val Loss=0.0929, Val Acc=0.9737\n",
            "Epoch 18/50: Train Loss=0.1005, Train Acc=0.9721, Val Loss=0.0898, Val Acc=0.9745\n",
            "Epoch 19/50: Train Loss=0.0923, Train Acc=0.9735, Val Loss=0.0860, Val Acc=0.9762\n",
            "Epoch 20/50: Train Loss=0.0871, Train Acc=0.9756, Val Loss=0.0854, Val Acc=0.9775\n",
            "Epoch 21/50: Train Loss=0.0862, Train Acc=0.9755, Val Loss=0.0863, Val Acc=0.9769\n",
            "Epoch 22/50: Train Loss=0.0808, Train Acc=0.9771, Val Loss=0.0866, Val Acc=0.9762\n",
            "Epoch 23/50: Train Loss=0.0774, Train Acc=0.9781, Val Loss=0.0835, Val Acc=0.9780\n",
            "Epoch 24/50: Train Loss=0.0721, Train Acc=0.9797, Val Loss=0.0828, Val Acc=0.9776\n",
            "Epoch 25/50: Train Loss=0.0732, Train Acc=0.9788, Val Loss=0.0848, Val Acc=0.9784\n",
            "Epoch 26/50: Train Loss=0.0693, Train Acc=0.9804, Val Loss=0.0827, Val Acc=0.9782\n",
            "Epoch 27/50: Train Loss=0.0651, Train Acc=0.9812, Val Loss=0.0818, Val Acc=0.9788\n",
            "Epoch 28/50: Train Loss=0.0631, Train Acc=0.9814, Val Loss=0.0810, Val Acc=0.9788\n",
            "Epoch 29/50: Train Loss=0.0623, Train Acc=0.9813, Val Loss=0.0827, Val Acc=0.9787\n",
            "Epoch 30/50: Train Loss=0.0592, Train Acc=0.9831, Val Loss=0.0813, Val Acc=0.9790\n",
            "Epoch 31/50: Train Loss=0.0581, Train Acc=0.9830, Val Loss=0.0846, Val Acc=0.9788\n",
            "Epoch 32/50: Train Loss=0.0554, Train Acc=0.9841, Val Loss=0.0788, Val Acc=0.9793\n",
            "Epoch 33/50: Train Loss=0.0575, Train Acc=0.9837, Val Loss=0.0823, Val Acc=0.9801\n",
            "Epoch 34/50: Train Loss=0.0558, Train Acc=0.9839, Val Loss=0.0845, Val Acc=0.9785\n",
            "Epoch 35/50: Train Loss=0.0547, Train Acc=0.9851, Val Loss=0.0781, Val Acc=0.9789\n",
            "Epoch 36/50: Train Loss=0.0513, Train Acc=0.9856, Val Loss=0.0802, Val Acc=0.9795\n",
            "Epoch 37/50: Train Loss=0.0496, Train Acc=0.9856, Val Loss=0.0781, Val Acc=0.9793\n",
            "Epoch 38/50: Train Loss=0.0495, Train Acc=0.9857, Val Loss=0.0851, Val Acc=0.9795\n",
            "Epoch 39/50: Train Loss=0.0496, Train Acc=0.9856, Val Loss=0.0847, Val Acc=0.9788\n",
            "Epoch 40/50: Train Loss=0.0473, Train Acc=0.9867, Val Loss=0.0821, Val Acc=0.9808\n",
            "Epoch 41/50: Train Loss=0.0459, Train Acc=0.9862, Val Loss=0.0857, Val Acc=0.9792\n",
            "Epoch 42/50: Train Loss=0.0457, Train Acc=0.9864, Val Loss=0.0805, Val Acc=0.9802\n",
            "Epoch 43/50: Train Loss=0.0442, Train Acc=0.9867, Val Loss=0.0790, Val Acc=0.9804\n",
            "Epoch 44/50: Train Loss=0.0408, Train Acc=0.9881, Val Loss=0.0852, Val Acc=0.9799\n",
            "Epoch 45/50: Train Loss=0.0407, Train Acc=0.9879, Val Loss=0.0859, Val Acc=0.9789\n",
            "Epoch 46/50: Train Loss=0.0444, Train Acc=0.9866, Val Loss=0.0879, Val Acc=0.9804\n",
            "Epoch 47/50: Train Loss=0.0417, Train Acc=0.9875, Val Loss=0.0840, Val Acc=0.9798\n",
            "Epoch 48/50: Train Loss=0.0396, Train Acc=0.9884, Val Loss=0.0828, Val Acc=0.9794\n",
            "Epoch 49/50: Train Loss=0.0404, Train Acc=0.9881, Val Loss=0.0819, Val Acc=0.9797\n",
            "Epoch 50/50: Train Loss=0.0384, Train Acc=0.9883, Val Loss=0.0831, Val Acc=0.9794\n"
          ]
        },
        {
          "output_type": "display_data",
          "data": {
            "text/plain": [
              "<Figure size 1200x500 with 2 Axes>"
            ],
            "image/png": "[encoded data removed]"
          },
          "metadata": {}
        },
        {
          "output_type": "stream",
          "name": "stdout",
          "text": [
            "              precision    recall  f1-score   support\n",
            "\n",
            "           0     0.9939    0.9880    0.9909       996\n",
            "           1     0.9844    0.9939    0.9891      1141\n",
            "           2     0.9659    0.9798    0.9728      1040\n",
            "           3     0.9750    0.9625    0.9687      1013\n",
            "           4     0.9783    0.9834    0.9808       962\n",
            "           5     0.9711    0.9745    0.9728       863\n",
            "           6     0.9849    0.9879    0.9864       989\n",
            "           7     0.9821    0.9784    0.9802      1064\n",
            "           8     0.9615    0.9595    0.9605       963\n",
            "           9     0.9718    0.9598    0.9657       969\n",
            "\n",
            "    accuracy                         0.9771     10000\n",
            "   macro avg     0.9769    0.9767    0.9768     10000\n",
            "weighted avg     0.9771    0.9771    0.9771     10000\n",
            "\n"
          ]
        },
        {
          "output_type": "display_data",
          "data": {
            "text/plain": [
              "<Figure size 1500x500 with 5 Axes>"
            ],
            "image/png": "[encoded data removed]"
          },
          "metadata": {}
        }
      ]
    },
    {
      "cell_type": "code",
      "source": [
        "torch.save(model_2.state_dict(), 'model_weights.pth')"
      ],
      "metadata": {
        "id": "Z0c15aO58hsD"
      },
      "execution_count": 21,
      "outputs": []
    },
    {
      "cell_type": "markdown",
      "source": [
        "## Exercise 6: Optimize the model / Blind test\n",
        "\n",
        "+ Hình thức: 18h cùng ngày, Trainer cung cấp tập blind test -> Trainee thực hiện test trong vòng 30 phút -> 18h30 đóng cổng submit kết quả lên driver.\n",
        "+ Metrics: Precision, Recall, and F1-Score (per class and averaged)\n"
      ],
      "metadata": {
        "id": "dMhdeT0d_P7R"
      }
    },
    {
      "cell_type": "code",
      "source": [
        "blind_test_model = create_model_2(layer_1_units=256, layer_2_units=128, layer_3_units=64, dropout_rate=0.4).to('cuda')\n",
        "blind_test_model.load_state_dict(torch.load('model_weights.pth'))\n",
        "blind_test_model.eval()"
      ],
      "metadata": {
        "colab": {
          "base_uri": "https://localhost:8080/"
        },
        "id": "U5nn4S8t_PQm",
        "outputId": "e9dd35ef-bbf2-4ca0-8d2d-e65cb749152f"
      },
      "execution_count": 33,
      "outputs": [
        {
          "output_type": "execute_result",
          "data": {
            "text/plain": [
              "Neural_Networks_2(\n",
              "  (fc1): Linear(in_features=784, out_features=256, bias=True)\n",
              "  (fc2): Linear(in_features=256, out_features=128, bias=True)\n",
              "  (fc3): Linear(in_features=128, out_features=64, bias=True)\n",
              "  (fc4): Linear(in_features=64, out_features=10, bias=True)\n",
              "  (dropout): Dropout(p=0.4, inplace=False)\n",
              ")"
            ]
          },
          "metadata": {},
          "execution_count": 33
        }
      ]
    },
    {
      "cell_type": "code",
      "source": [
        "# what inside the blindtest set?\n",
        "blind_set = np.load('/content/mnist_test_data.npz')\n",
        "print(blind_set.files)\n",
        "print(blind_set['x_test'].shape)"
      ],
      "metadata": {
        "colab": {
          "base_uri": "https://localhost:8080/"
        },
        "id": "0pmCglzHELzs",
        "outputId": "d9a72bee-df4c-4952-ab4d-6c876378636c"
      },
      "execution_count": 34,
      "outputs": [
        {
          "output_type": "stream",
          "name": "stdout",
          "text": [
            "['x_test', 'y_test']\n",
            "(10000, 28, 28)\n"
          ]
        }
      ]
    },
    {
      "cell_type": "code",
      "source": [
        "def load_blind_test_data(file_path):\n",
        "    data = np.load(file_path)\n",
        "    if isinstance(data, np.lib.npyio.NpzFile):\n",
        "        X_test = data['x_test']\n",
        "    else:\n",
        "        X_test = data\n",
        "\n",
        "    X_test = X_test.astype(np.float32) / 255.0\n",
        "    X_test = X_test.reshape(-1, 28*28)\n",
        "    X_test_tensor = torch.tensor(X_test)\n",
        "\n",
        "    Y_test = data['y_test']\n",
        "    Y_test_tensor = torch.tensor(Y_test)\n",
        "\n",
        "    test_dataset = torch.utils.data.TensorDataset(X_test_tensor, Y_test_tensor)\n",
        "    return test_dataset\n",
        "\n",
        "blind_test_dataset = load_blind_test_data('/content/mnist_test_data.npz')"
      ],
      "metadata": {
        "id": "JT9fuNXoAY2E"
      },
      "execution_count": 35,
      "outputs": []
    },
    {
      "cell_type": "code",
      "source": [
        "evaluate(blind_test_model, blind_test_dataset, batch_size=64)\n",
        "predict_random_images(blind_test_model, blind_test_dataset)"
      ],
      "metadata": {
        "colab": {
          "base_uri": "https://localhost:8080/",
          "height": 575
        },
        "id": "yPnZVRYaCj8j",
        "outputId": "0b38daa0-63d1-496c-c82b-abd33a2b9c25"
      },
      "execution_count": 36,
      "outputs": [
        {
          "output_type": "stream",
          "name": "stdout",
          "text": [
            "              precision    recall  f1-score   support\n",
            "\n",
            "           0     0.9969    0.9959    0.9964       980\n",
            "           1     0.9947    0.9965    0.9956      1135\n",
            "           2     0.9904    0.9952    0.9928      1032\n",
            "           3     0.9901    0.9950    0.9926      1010\n",
            "           4     0.9919    0.9969    0.9944       982\n",
            "           5     0.9888    0.9922    0.9905       892\n",
            "           6     0.9937    0.9937    0.9937       958\n",
            "           7     0.9980    0.9912    0.9946      1028\n",
            "           8     0.9928    0.9877    0.9902       974\n",
            "           9     0.9950    0.9881    0.9915      1009\n",
            "\n",
            "    accuracy                         0.9933     10000\n",
            "   macro avg     0.9932    0.9932    0.9932     10000\n",
            "weighted avg     0.9933    0.9933    0.9933     10000\n",
            "\n"
          ]
        },
        {
          "output_type": "display_data",
          "data": {
            "text/plain": [
              "<Figure size 1500x500 with 5 Axes>"
            ],
            "image/png": "[encoded data removed]"
          },
          "metadata": {}
        }
      ]
    },
    {
      "cell_type": "code",
      "source": [],
      "metadata": {
        "id": "kcBPnYuvHkHe"
      },
      "execution_count": null,
      "outputs": []
    }
  ],
  "metadata": {
    "colab": {
      "provenance": [],
      "gpuType": "T4"
    },
    "kernelspec": {
      "display_name": "Python 3",
      "name": "python3"
    },
    "language_info": {
      "codemirror_mode": {
        "name": "ipython",
        "version": 3
      },
      "file_extension": ".py",
      "mimetype": "text/x-python",
      "name": "python",
      "nbconvert_exporter": "python",
      "pygments_lexer": "ipython3",
      "version": "3.9.7"
    },
    "accelerator": "GPU"
  },
  "nbformat": 4,
  "nbformat_minor": 0
}